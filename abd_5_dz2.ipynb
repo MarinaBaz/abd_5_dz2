{
 "cells": [
  {
   "cell_type": "markdown",
   "metadata": {},
   "source": [
    "# Домашняя работа 2."
   ]
  },
  {
   "cell_type": "markdown",
   "metadata": {},
   "source": [
    "### Машинные методы в помощь обработке данным"
   ]
  },
  {
   "cell_type": "code",
   "execution_count": 1,
   "metadata": {},
   "outputs": [],
   "source": [
    "import pandas as pd"
   ]
  },
  {
   "cell_type": "code",
   "execution_count": 2,
   "metadata": {},
   "outputs": [],
   "source": [
    "from sklearn.model_selection import train_test_split\n",
    "from sklearn.preprocessing import StandardScaler\n",
    "\n",
    "from sklearn.linear_model import LinearRegression\n",
    "from sklearn.tree import DecisionTreeRegressor\n",
    "from sklearn.svm import SVR\n",
    "\n",
    "from sklearn.metrics import mean_squared_error\n",
    "from sklearn.metrics import r2_score\n",
    "from sklearn.metrics import mean_absolute_error"
   ]
  },
  {
   "cell_type": "code",
   "execution_count": 3,
   "metadata": {},
   "outputs": [],
   "source": [
    "import matplotlib.pyplot as plt"
   ]
  },
  {
   "cell_type": "markdown",
   "metadata": {},
   "source": [
    "https://www.kaggle.com/c/boston-housing/overview"
   ]
  },
  {
   "cell_type": "markdown",
   "metadata": {},
   "source": [
    "Таблица цен на дома в Бостоне\n",
    "\n",
    "- CRIM: Это уровень преступности на душу населения по городам\n",
    "- ZN: Это доля жилой земли, зонированной для участков более 25 000 кв. футов.\n",
    "- INDUS: Это доля не торговых площадей в каждом городе.\n",
    "- CHAS: Это фиктивная переменная реки Charles River (она равна 1, если тракт ограничивает реку; в противном случае 0)\n",
    "- NOX: это концентрация оксидов азота (частей на 10 миллионов)\n",
    "- RM: это среднее количество комнат на одно жилище\n",
    "- AGE: Это доля занятых владельцем единиц, построенных до 1940 года\n",
    "- DIS: Это взвешенные расстояния до пяти бостонских центров занятости\n",
    "- RAD: Это показатель доступности радиальных магистралей\n",
    "- TAX: это полная стоимость налога на имущество на 10 000 долларов\n",
    "- PTRATIO: Это соотношение учеников и учителей по городам\n",
    "- B: Это рассчитывается как 1000 (Bk - 0,63) ², где Bk - это доля людей афроамериканского происхождения по городам.\n",
    "- LSTAT: это процент низкого статуса населения\n",
    "- MEDV: это средняя стоимость домов, занимаемых владельцами, в 1000 долларов."
   ]
  },
  {
   "cell_type": "code",
   "execution_count": 4,
   "metadata": {},
   "outputs": [
    {
     "data": {
      "text/html": [
       "<div>\n",
       "<style scoped>\n",
       "    .dataframe tbody tr th:only-of-type {\n",
       "        vertical-align: middle;\n",
       "    }\n",
       "\n",
       "    .dataframe tbody tr th {\n",
       "        vertical-align: top;\n",
       "    }\n",
       "\n",
       "    .dataframe thead th {\n",
       "        text-align: right;\n",
       "    }\n",
       "</style>\n",
       "<table border=\"1\" class=\"dataframe\">\n",
       "  <thead>\n",
       "    <tr style=\"text-align: right;\">\n",
       "      <th></th>\n",
       "      <th>ID</th>\n",
       "      <th>crim</th>\n",
       "      <th>zn</th>\n",
       "      <th>indus</th>\n",
       "      <th>chas</th>\n",
       "      <th>nox</th>\n",
       "      <th>rm</th>\n",
       "      <th>age</th>\n",
       "      <th>dis</th>\n",
       "      <th>rad</th>\n",
       "      <th>tax</th>\n",
       "      <th>ptratio</th>\n",
       "      <th>black</th>\n",
       "      <th>lstat</th>\n",
       "      <th>medv</th>\n",
       "    </tr>\n",
       "  </thead>\n",
       "  <tbody>\n",
       "    <tr>\n",
       "      <td>0</td>\n",
       "      <td>1</td>\n",
       "      <td>0.00632</td>\n",
       "      <td>18.0</td>\n",
       "      <td>2.31</td>\n",
       "      <td>0</td>\n",
       "      <td>0.538</td>\n",
       "      <td>6.575</td>\n",
       "      <td>65.2</td>\n",
       "      <td>4.0900</td>\n",
       "      <td>1</td>\n",
       "      <td>296</td>\n",
       "      <td>15.3</td>\n",
       "      <td>396.90</td>\n",
       "      <td>4.98</td>\n",
       "      <td>24.0</td>\n",
       "    </tr>\n",
       "    <tr>\n",
       "      <td>1</td>\n",
       "      <td>2</td>\n",
       "      <td>0.02731</td>\n",
       "      <td>0.0</td>\n",
       "      <td>7.07</td>\n",
       "      <td>0</td>\n",
       "      <td>0.469</td>\n",
       "      <td>6.421</td>\n",
       "      <td>78.9</td>\n",
       "      <td>4.9671</td>\n",
       "      <td>2</td>\n",
       "      <td>242</td>\n",
       "      <td>17.8</td>\n",
       "      <td>396.90</td>\n",
       "      <td>9.14</td>\n",
       "      <td>21.6</td>\n",
       "    </tr>\n",
       "    <tr>\n",
       "      <td>2</td>\n",
       "      <td>4</td>\n",
       "      <td>0.03237</td>\n",
       "      <td>0.0</td>\n",
       "      <td>2.18</td>\n",
       "      <td>0</td>\n",
       "      <td>0.458</td>\n",
       "      <td>6.998</td>\n",
       "      <td>45.8</td>\n",
       "      <td>6.0622</td>\n",
       "      <td>3</td>\n",
       "      <td>222</td>\n",
       "      <td>18.7</td>\n",
       "      <td>394.63</td>\n",
       "      <td>2.94</td>\n",
       "      <td>33.4</td>\n",
       "    </tr>\n",
       "    <tr>\n",
       "      <td>3</td>\n",
       "      <td>5</td>\n",
       "      <td>0.06905</td>\n",
       "      <td>0.0</td>\n",
       "      <td>2.18</td>\n",
       "      <td>0</td>\n",
       "      <td>0.458</td>\n",
       "      <td>7.147</td>\n",
       "      <td>54.2</td>\n",
       "      <td>6.0622</td>\n",
       "      <td>3</td>\n",
       "      <td>222</td>\n",
       "      <td>18.7</td>\n",
       "      <td>396.90</td>\n",
       "      <td>5.33</td>\n",
       "      <td>36.2</td>\n",
       "    </tr>\n",
       "    <tr>\n",
       "      <td>4</td>\n",
       "      <td>7</td>\n",
       "      <td>0.08829</td>\n",
       "      <td>12.5</td>\n",
       "      <td>7.87</td>\n",
       "      <td>0</td>\n",
       "      <td>0.524</td>\n",
       "      <td>6.012</td>\n",
       "      <td>66.6</td>\n",
       "      <td>5.5605</td>\n",
       "      <td>5</td>\n",
       "      <td>311</td>\n",
       "      <td>15.2</td>\n",
       "      <td>395.60</td>\n",
       "      <td>12.43</td>\n",
       "      <td>22.9</td>\n",
       "    </tr>\n",
       "  </tbody>\n",
       "</table>\n",
       "</div>"
      ],
      "text/plain": [
       "   ID     crim    zn  indus  chas    nox     rm   age     dis  rad  tax  \\\n",
       "0   1  0.00632  18.0   2.31     0  0.538  6.575  65.2  4.0900    1  296   \n",
       "1   2  0.02731   0.0   7.07     0  0.469  6.421  78.9  4.9671    2  242   \n",
       "2   4  0.03237   0.0   2.18     0  0.458  6.998  45.8  6.0622    3  222   \n",
       "3   5  0.06905   0.0   2.18     0  0.458  7.147  54.2  6.0622    3  222   \n",
       "4   7  0.08829  12.5   7.87     0  0.524  6.012  66.6  5.5605    5  311   \n",
       "\n",
       "   ptratio   black  lstat  medv  \n",
       "0     15.3  396.90   4.98  24.0  \n",
       "1     17.8  396.90   9.14  21.6  \n",
       "2     18.7  394.63   2.94  33.4  \n",
       "3     18.7  396.90   5.33  36.2  \n",
       "4     15.2  395.60  12.43  22.9  "
      ]
     },
     "execution_count": 4,
     "metadata": {},
     "output_type": "execute_result"
    }
   ],
   "source": [
    "data_house = pd.read_csv('homework.csv')\n",
    "data_house.head()"
   ]
  },
  {
   "cell_type": "code",
   "execution_count": 5,
   "metadata": {},
   "outputs": [
    {
     "name": "stdout",
     "output_type": "stream",
     "text": [
      "<class 'pandas.core.frame.DataFrame'>\n",
      "RangeIndex: 333 entries, 0 to 332\n",
      "Data columns (total 15 columns):\n",
      "ID         333 non-null int64\n",
      "crim       333 non-null float64\n",
      "zn         333 non-null float64\n",
      "indus      333 non-null float64\n",
      "chas       333 non-null int64\n",
      "nox        333 non-null float64\n",
      "rm         333 non-null float64\n",
      "age        333 non-null float64\n",
      "dis        333 non-null float64\n",
      "rad        333 non-null int64\n",
      "tax        333 non-null int64\n",
      "ptratio    333 non-null float64\n",
      "black      333 non-null float64\n",
      "lstat      333 non-null float64\n",
      "medv       333 non-null float64\n",
      "dtypes: float64(11), int64(4)\n",
      "memory usage: 39.1 KB\n"
     ]
    }
   ],
   "source": [
    "data_house.info()"
   ]
  },
  {
   "cell_type": "markdown",
   "metadata": {},
   "source": [
    "333 строк, пропущенных данных нет"
   ]
  },
  {
   "cell_type": "code",
   "execution_count": 6,
   "metadata": {},
   "outputs": [
    {
     "data": {
      "text/plain": [
       "Index(['ID', 'crim', 'zn', 'indus', 'chas', 'nox', 'rm', 'age', 'dis', 'rad',\n",
       "       'tax', 'ptratio', 'black', 'lstat', 'medv'],\n",
       "      dtype='object')"
      ]
     },
     "execution_count": 6,
     "metadata": {},
     "output_type": "execute_result"
    }
   ],
   "source": [
    "data_house.columns"
   ]
  },
  {
   "cell_type": "markdown",
   "metadata": {},
   "source": [
    "### 1. Решить задачу регрессии:"
   ]
  },
  {
   "cell_type": "markdown",
   "metadata": {},
   "source": [
    "#### 1 - Выделяем признаки и метки"
   ]
  },
  {
   "cell_type": "code",
   "execution_count": 7,
   "metadata": {},
   "outputs": [],
   "source": [
    "#признаки и метки\n",
    "# Формируем признаки и целевую переменную\n",
    "X = data_house[['ID', 'crim', 'zn', 'indus', 'chas', 'nox', 'rm', 'age', 'dis', 'rad', \n",
    "                   'tax', 'ptratio', 'black', 'lstat']]\n",
    "y = data_house['medv']"
   ]
  },
  {
   "cell_type": "markdown",
   "metadata": {},
   "source": [
    "#### 2 - Разделяем данные на данные для обучения и проверки"
   ]
  },
  {
   "cell_type": "markdown",
   "metadata": {},
   "source": [
    "Выделим из датасета тренировочные и тестовые данные. \n",
    "- **train** Тренировочные данные будем использовать для обучения модели. \n",
    "- **test** Тестовые данные будем использовать для подсчета качества модели (20%)."
   ]
  },
  {
   "cell_type": "code",
   "execution_count": 8,
   "metadata": {},
   "outputs": [],
   "source": [
    "# Разделяем данные на данные для обучения и проверки  train_test_split 20 процентов\n",
    "X_train, X_test, y_train, y_test = train_test_split(X, y, test_size=0.2)"
   ]
  },
  {
   "cell_type": "code",
   "execution_count": 9,
   "metadata": {},
   "outputs": [
    {
     "data": {
      "text/html": [
       "<div>\n",
       "<style scoped>\n",
       "    .dataframe tbody tr th:only-of-type {\n",
       "        vertical-align: middle;\n",
       "    }\n",
       "\n",
       "    .dataframe tbody tr th {\n",
       "        vertical-align: top;\n",
       "    }\n",
       "\n",
       "    .dataframe thead th {\n",
       "        text-align: right;\n",
       "    }\n",
       "</style>\n",
       "<table border=\"1\" class=\"dataframe\">\n",
       "  <thead>\n",
       "    <tr style=\"text-align: right;\">\n",
       "      <th></th>\n",
       "      <th>ID</th>\n",
       "      <th>crim</th>\n",
       "      <th>zn</th>\n",
       "      <th>indus</th>\n",
       "      <th>chas</th>\n",
       "      <th>nox</th>\n",
       "      <th>rm</th>\n",
       "      <th>age</th>\n",
       "      <th>dis</th>\n",
       "      <th>rad</th>\n",
       "      <th>tax</th>\n",
       "      <th>ptratio</th>\n",
       "      <th>black</th>\n",
       "      <th>lstat</th>\n",
       "    </tr>\n",
       "  </thead>\n",
       "  <tbody>\n",
       "    <tr>\n",
       "      <td>65</td>\n",
       "      <td>95</td>\n",
       "      <td>0.04294</td>\n",
       "      <td>28.0</td>\n",
       "      <td>15.04</td>\n",
       "      <td>0</td>\n",
       "      <td>0.464</td>\n",
       "      <td>6.249</td>\n",
       "      <td>77.3</td>\n",
       "      <td>3.6150</td>\n",
       "      <td>4</td>\n",
       "      <td>270</td>\n",
       "      <td>18.2</td>\n",
       "      <td>396.90</td>\n",
       "      <td>10.59</td>\n",
       "    </tr>\n",
       "    <tr>\n",
       "      <td>135</td>\n",
       "      <td>193</td>\n",
       "      <td>0.08664</td>\n",
       "      <td>45.0</td>\n",
       "      <td>3.44</td>\n",
       "      <td>0</td>\n",
       "      <td>0.437</td>\n",
       "      <td>7.178</td>\n",
       "      <td>26.3</td>\n",
       "      <td>6.4798</td>\n",
       "      <td>5</td>\n",
       "      <td>398</td>\n",
       "      <td>15.2</td>\n",
       "      <td>390.49</td>\n",
       "      <td>2.87</td>\n",
       "    </tr>\n",
       "    <tr>\n",
       "      <td>12</td>\n",
       "      <td>19</td>\n",
       "      <td>0.80271</td>\n",
       "      <td>0.0</td>\n",
       "      <td>8.14</td>\n",
       "      <td>0</td>\n",
       "      <td>0.538</td>\n",
       "      <td>5.456</td>\n",
       "      <td>36.6</td>\n",
       "      <td>3.7965</td>\n",
       "      <td>4</td>\n",
       "      <td>307</td>\n",
       "      <td>21.0</td>\n",
       "      <td>288.99</td>\n",
       "      <td>11.69</td>\n",
       "    </tr>\n",
       "    <tr>\n",
       "      <td>76</td>\n",
       "      <td>115</td>\n",
       "      <td>0.14231</td>\n",
       "      <td>0.0</td>\n",
       "      <td>10.01</td>\n",
       "      <td>0</td>\n",
       "      <td>0.547</td>\n",
       "      <td>6.254</td>\n",
       "      <td>84.2</td>\n",
       "      <td>2.2565</td>\n",
       "      <td>6</td>\n",
       "      <td>432</td>\n",
       "      <td>17.8</td>\n",
       "      <td>388.74</td>\n",
       "      <td>10.45</td>\n",
       "    </tr>\n",
       "    <tr>\n",
       "      <td>258</td>\n",
       "      <td>393</td>\n",
       "      <td>11.57790</td>\n",
       "      <td>0.0</td>\n",
       "      <td>18.10</td>\n",
       "      <td>0</td>\n",
       "      <td>0.700</td>\n",
       "      <td>5.036</td>\n",
       "      <td>97.0</td>\n",
       "      <td>1.7700</td>\n",
       "      <td>24</td>\n",
       "      <td>666</td>\n",
       "      <td>20.2</td>\n",
       "      <td>396.90</td>\n",
       "      <td>25.68</td>\n",
       "    </tr>\n",
       "  </tbody>\n",
       "</table>\n",
       "</div>"
      ],
      "text/plain": [
       "      ID      crim    zn  indus  chas    nox     rm   age     dis  rad  tax  \\\n",
       "65    95   0.04294  28.0  15.04     0  0.464  6.249  77.3  3.6150    4  270   \n",
       "135  193   0.08664  45.0   3.44     0  0.437  7.178  26.3  6.4798    5  398   \n",
       "12    19   0.80271   0.0   8.14     0  0.538  5.456  36.6  3.7965    4  307   \n",
       "76   115   0.14231   0.0  10.01     0  0.547  6.254  84.2  2.2565    6  432   \n",
       "258  393  11.57790   0.0  18.10     0  0.700  5.036  97.0  1.7700   24  666   \n",
       "\n",
       "     ptratio   black  lstat  \n",
       "65      18.2  396.90  10.59  \n",
       "135     15.2  390.49   2.87  \n",
       "12      21.0  288.99  11.69  \n",
       "76      17.8  388.74  10.45  \n",
       "258     20.2  396.90  25.68  "
      ]
     },
     "execution_count": 9,
     "metadata": {},
     "output_type": "execute_result"
    }
   ],
   "source": [
    "#признаки тренировочных\n",
    "X_train.head()"
   ]
  },
  {
   "cell_type": "code",
   "execution_count": 10,
   "metadata": {},
   "outputs": [
    {
     "data": {
      "text/plain": [
       "65     20.6\n",
       "135    36.4\n",
       "12     20.2\n",
       "76     18.5\n",
       "258     9.7\n",
       "Name: medv, dtype: float64"
      ]
     },
     "execution_count": 10,
     "metadata": {},
     "output_type": "execute_result"
    }
   ],
   "source": [
    "#метка тренировочных\n",
    "y_train.head()"
   ]
  },
  {
   "cell_type": "code",
   "execution_count": 11,
   "metadata": {},
   "outputs": [
    {
     "data": {
      "text/html": [
       "<div>\n",
       "<style scoped>\n",
       "    .dataframe tbody tr th:only-of-type {\n",
       "        vertical-align: middle;\n",
       "    }\n",
       "\n",
       "    .dataframe tbody tr th {\n",
       "        vertical-align: top;\n",
       "    }\n",
       "\n",
       "    .dataframe thead th {\n",
       "        text-align: right;\n",
       "    }\n",
       "</style>\n",
       "<table border=\"1\" class=\"dataframe\">\n",
       "  <thead>\n",
       "    <tr style=\"text-align: right;\">\n",
       "      <th></th>\n",
       "      <th>ID</th>\n",
       "      <th>crim</th>\n",
       "      <th>zn</th>\n",
       "      <th>indus</th>\n",
       "      <th>chas</th>\n",
       "      <th>nox</th>\n",
       "      <th>rm</th>\n",
       "      <th>age</th>\n",
       "      <th>dis</th>\n",
       "      <th>rad</th>\n",
       "      <th>tax</th>\n",
       "      <th>ptratio</th>\n",
       "      <th>black</th>\n",
       "      <th>lstat</th>\n",
       "    </tr>\n",
       "  </thead>\n",
       "  <tbody>\n",
       "    <tr>\n",
       "      <td>331</td>\n",
       "      <td>504</td>\n",
       "      <td>0.06076</td>\n",
       "      <td>0.0</td>\n",
       "      <td>11.93</td>\n",
       "      <td>0</td>\n",
       "      <td>0.573</td>\n",
       "      <td>6.976</td>\n",
       "      <td>91.0</td>\n",
       "      <td>2.1675</td>\n",
       "      <td>1</td>\n",
       "      <td>273</td>\n",
       "      <td>21.0</td>\n",
       "      <td>396.90</td>\n",
       "      <td>5.64</td>\n",
       "    </tr>\n",
       "    <tr>\n",
       "      <td>238</td>\n",
       "      <td>361</td>\n",
       "      <td>4.54192</td>\n",
       "      <td>0.0</td>\n",
       "      <td>18.10</td>\n",
       "      <td>0</td>\n",
       "      <td>0.770</td>\n",
       "      <td>6.398</td>\n",
       "      <td>88.0</td>\n",
       "      <td>2.5182</td>\n",
       "      <td>24</td>\n",
       "      <td>666</td>\n",
       "      <td>20.2</td>\n",
       "      <td>374.56</td>\n",
       "      <td>7.79</td>\n",
       "    </tr>\n",
       "    <tr>\n",
       "      <td>193</td>\n",
       "      <td>289</td>\n",
       "      <td>0.04590</td>\n",
       "      <td>52.5</td>\n",
       "      <td>5.32</td>\n",
       "      <td>0</td>\n",
       "      <td>0.405</td>\n",
       "      <td>6.315</td>\n",
       "      <td>45.6</td>\n",
       "      <td>7.3172</td>\n",
       "      <td>6</td>\n",
       "      <td>293</td>\n",
       "      <td>16.6</td>\n",
       "      <td>396.90</td>\n",
       "      <td>7.60</td>\n",
       "    </tr>\n",
       "    <tr>\n",
       "      <td>301</td>\n",
       "      <td>463</td>\n",
       "      <td>6.65492</td>\n",
       "      <td>0.0</td>\n",
       "      <td>18.10</td>\n",
       "      <td>0</td>\n",
       "      <td>0.713</td>\n",
       "      <td>6.317</td>\n",
       "      <td>83.0</td>\n",
       "      <td>2.7344</td>\n",
       "      <td>24</td>\n",
       "      <td>666</td>\n",
       "      <td>20.2</td>\n",
       "      <td>396.90</td>\n",
       "      <td>13.99</td>\n",
       "    </tr>\n",
       "    <tr>\n",
       "      <td>68</td>\n",
       "      <td>102</td>\n",
       "      <td>0.11432</td>\n",
       "      <td>0.0</td>\n",
       "      <td>8.56</td>\n",
       "      <td>0</td>\n",
       "      <td>0.520</td>\n",
       "      <td>6.781</td>\n",
       "      <td>71.3</td>\n",
       "      <td>2.8561</td>\n",
       "      <td>5</td>\n",
       "      <td>384</td>\n",
       "      <td>20.9</td>\n",
       "      <td>395.58</td>\n",
       "      <td>7.67</td>\n",
       "    </tr>\n",
       "  </tbody>\n",
       "</table>\n",
       "</div>"
      ],
      "text/plain": [
       "      ID     crim    zn  indus  chas    nox     rm   age     dis  rad  tax  \\\n",
       "331  504  0.06076   0.0  11.93     0  0.573  6.976  91.0  2.1675    1  273   \n",
       "238  361  4.54192   0.0  18.10     0  0.770  6.398  88.0  2.5182   24  666   \n",
       "193  289  0.04590  52.5   5.32     0  0.405  6.315  45.6  7.3172    6  293   \n",
       "301  463  6.65492   0.0  18.10     0  0.713  6.317  83.0  2.7344   24  666   \n",
       "68   102  0.11432   0.0   8.56     0  0.520  6.781  71.3  2.8561    5  384   \n",
       "\n",
       "     ptratio   black  lstat  \n",
       "331     21.0  396.90   5.64  \n",
       "238     20.2  374.56   7.79  \n",
       "193     16.6  396.90   7.60  \n",
       "301     20.2  396.90  13.99  \n",
       "68      20.9  395.58   7.67  "
      ]
     },
     "execution_count": 11,
     "metadata": {},
     "output_type": "execute_result"
    }
   ],
   "source": [
    "#признаки тестовых\n",
    "X_test.head()"
   ]
  },
  {
   "cell_type": "code",
   "execution_count": 12,
   "metadata": {},
   "outputs": [
    {
     "data": {
      "text/plain": [
       "331    23.9\n",
       "238    25.0\n",
       "193    22.3\n",
       "301    19.5\n",
       "68     26.5\n",
       "Name: medv, dtype: float64"
      ]
     },
     "execution_count": 12,
     "metadata": {},
     "output_type": "execute_result"
    }
   ],
   "source": [
    "#метка тестовых\n",
    "y_test.head()"
   ]
  },
  {
   "cell_type": "markdown",
   "metadata": {},
   "source": [
    "#### 3 - Приводим данные к одному масштабу"
   ]
  },
  {
   "cell_type": "code",
   "execution_count": 13,
   "metadata": {},
   "outputs": [
    {
     "data": {
      "text/html": [
       "<div>\n",
       "<style scoped>\n",
       "    .dataframe tbody tr th:only-of-type {\n",
       "        vertical-align: middle;\n",
       "    }\n",
       "\n",
       "    .dataframe tbody tr th {\n",
       "        vertical-align: top;\n",
       "    }\n",
       "\n",
       "    .dataframe thead th {\n",
       "        text-align: right;\n",
       "    }\n",
       "</style>\n",
       "<table border=\"1\" class=\"dataframe\">\n",
       "  <thead>\n",
       "    <tr style=\"text-align: right;\">\n",
       "      <th></th>\n",
       "      <th>ID</th>\n",
       "      <th>crim</th>\n",
       "      <th>zn</th>\n",
       "      <th>indus</th>\n",
       "      <th>chas</th>\n",
       "      <th>nox</th>\n",
       "      <th>rm</th>\n",
       "      <th>age</th>\n",
       "      <th>dis</th>\n",
       "      <th>rad</th>\n",
       "      <th>tax</th>\n",
       "      <th>ptratio</th>\n",
       "      <th>black</th>\n",
       "      <th>lstat</th>\n",
       "      <th>TARGET</th>\n",
       "    </tr>\n",
       "  </thead>\n",
       "  <tbody>\n",
       "    <tr>\n",
       "      <td>331</td>\n",
       "      <td>504</td>\n",
       "      <td>0.06076</td>\n",
       "      <td>0.0</td>\n",
       "      <td>11.93</td>\n",
       "      <td>0</td>\n",
       "      <td>0.573</td>\n",
       "      <td>6.976</td>\n",
       "      <td>91.0</td>\n",
       "      <td>2.1675</td>\n",
       "      <td>1</td>\n",
       "      <td>273</td>\n",
       "      <td>21.0</td>\n",
       "      <td>396.90</td>\n",
       "      <td>5.64</td>\n",
       "      <td>23.9</td>\n",
       "    </tr>\n",
       "    <tr>\n",
       "      <td>238</td>\n",
       "      <td>361</td>\n",
       "      <td>4.54192</td>\n",
       "      <td>0.0</td>\n",
       "      <td>18.10</td>\n",
       "      <td>0</td>\n",
       "      <td>0.770</td>\n",
       "      <td>6.398</td>\n",
       "      <td>88.0</td>\n",
       "      <td>2.5182</td>\n",
       "      <td>24</td>\n",
       "      <td>666</td>\n",
       "      <td>20.2</td>\n",
       "      <td>374.56</td>\n",
       "      <td>7.79</td>\n",
       "      <td>25.0</td>\n",
       "    </tr>\n",
       "    <tr>\n",
       "      <td>193</td>\n",
       "      <td>289</td>\n",
       "      <td>0.04590</td>\n",
       "      <td>52.5</td>\n",
       "      <td>5.32</td>\n",
       "      <td>0</td>\n",
       "      <td>0.405</td>\n",
       "      <td>6.315</td>\n",
       "      <td>45.6</td>\n",
       "      <td>7.3172</td>\n",
       "      <td>6</td>\n",
       "      <td>293</td>\n",
       "      <td>16.6</td>\n",
       "      <td>396.90</td>\n",
       "      <td>7.60</td>\n",
       "      <td>22.3</td>\n",
       "    </tr>\n",
       "    <tr>\n",
       "      <td>301</td>\n",
       "      <td>463</td>\n",
       "      <td>6.65492</td>\n",
       "      <td>0.0</td>\n",
       "      <td>18.10</td>\n",
       "      <td>0</td>\n",
       "      <td>0.713</td>\n",
       "      <td>6.317</td>\n",
       "      <td>83.0</td>\n",
       "      <td>2.7344</td>\n",
       "      <td>24</td>\n",
       "      <td>666</td>\n",
       "      <td>20.2</td>\n",
       "      <td>396.90</td>\n",
       "      <td>13.99</td>\n",
       "      <td>19.5</td>\n",
       "    </tr>\n",
       "    <tr>\n",
       "      <td>68</td>\n",
       "      <td>102</td>\n",
       "      <td>0.11432</td>\n",
       "      <td>0.0</td>\n",
       "      <td>8.56</td>\n",
       "      <td>0</td>\n",
       "      <td>0.520</td>\n",
       "      <td>6.781</td>\n",
       "      <td>71.3</td>\n",
       "      <td>2.8561</td>\n",
       "      <td>5</td>\n",
       "      <td>384</td>\n",
       "      <td>20.9</td>\n",
       "      <td>395.58</td>\n",
       "      <td>7.67</td>\n",
       "      <td>26.5</td>\n",
       "    </tr>\n",
       "  </tbody>\n",
       "</table>\n",
       "</div>"
      ],
      "text/plain": [
       "      ID     crim    zn  indus  chas    nox     rm   age     dis  rad  tax  \\\n",
       "331  504  0.06076   0.0  11.93     0  0.573  6.976  91.0  2.1675    1  273   \n",
       "238  361  4.54192   0.0  18.10     0  0.770  6.398  88.0  2.5182   24  666   \n",
       "193  289  0.04590  52.5   5.32     0  0.405  6.315  45.6  7.3172    6  293   \n",
       "301  463  6.65492   0.0  18.10     0  0.713  6.317  83.0  2.7344   24  666   \n",
       "68   102  0.11432   0.0   8.56     0  0.520  6.781  71.3  2.8561    5  384   \n",
       "\n",
       "     ptratio   black  lstat  TARGET  \n",
       "331     21.0  396.90   5.64    23.9  \n",
       "238     20.2  374.56   7.79    25.0  \n",
       "193     16.6  396.90   7.60    22.3  \n",
       "301     20.2  396.90  13.99    19.5  \n",
       "68      20.9  395.58   7.67    26.5  "
      ]
     },
     "execution_count": 13,
     "metadata": {},
     "output_type": "execute_result"
    }
   ],
   "source": [
    "#копия тестовых данных\n",
    "result = X_test.copy()\n",
    "#сохрянем таргет-значение\n",
    "result['TARGET'] = y_test\n",
    "result.head()"
   ]
  },
  {
   "cell_type": "code",
   "execution_count": 14,
   "metadata": {},
   "outputs": [],
   "source": [
    "# Приводим данные к одному масштабу\n",
    "#обучение на трейне и проверка на тесте\n",
    "sc = StandardScaler()\n",
    "X_train = sc.fit_transform(X_train)\n",
    "X_test = sc.transform(X_test)"
   ]
  },
  {
   "cell_type": "code",
   "execution_count": 15,
   "metadata": {},
   "outputs": [
    {
     "data": {
      "text/plain": [
       "array([[-1.00972619, -0.49795632,  0.77598342, ..., -0.13562499,\n",
       "         0.42790242, -0.25550366],\n",
       "       [-0.34403215, -0.49068149,  1.53304857, ..., -1.54119305,\n",
       "         0.34964258, -1.37885105],\n",
       "       [-1.52597871, -0.37147578, -0.47094743, ...,  1.17623854,\n",
       "        -0.88957335, -0.0954412 ],\n",
       "       ...,\n",
       "       [ 0.40317544, -0.48967932,  1.04318288, ..., -1.11952263,\n",
       "         0.26564449, -0.53488539],\n",
       "       [-0.50026646, -0.09732614, -0.47094743, ..., -1.77545439,\n",
       "        -0.38839292, -0.14928039],\n",
       "       [-0.63612239, -0.04997481, -0.47094743, ..., -1.77545439,\n",
       "        -0.12211411,  1.32474929]])"
      ]
     },
     "execution_count": 15,
     "metadata": {},
     "output_type": "execute_result"
    }
   ],
   "source": [
    "X_train"
   ]
  },
  {
   "cell_type": "code",
   "execution_count": 16,
   "metadata": {},
   "outputs": [],
   "source": [
    "X_train = pd.DataFrame(X_train, columns=X.columns)\n",
    "X_test = pd.DataFrame(X_test, columns=X.columns)"
   ]
  },
  {
   "cell_type": "code",
   "execution_count": 17,
   "metadata": {},
   "outputs": [
    {
     "data": {
      "text/html": [
       "<div>\n",
       "<style scoped>\n",
       "    .dataframe tbody tr th:only-of-type {\n",
       "        vertical-align: middle;\n",
       "    }\n",
       "\n",
       "    .dataframe tbody tr th {\n",
       "        vertical-align: top;\n",
       "    }\n",
       "\n",
       "    .dataframe thead th {\n",
       "        text-align: right;\n",
       "    }\n",
       "</style>\n",
       "<table border=\"1\" class=\"dataframe\">\n",
       "  <thead>\n",
       "    <tr style=\"text-align: right;\">\n",
       "      <th></th>\n",
       "      <th>ID</th>\n",
       "      <th>crim</th>\n",
       "      <th>zn</th>\n",
       "      <th>indus</th>\n",
       "      <th>chas</th>\n",
       "      <th>nox</th>\n",
       "      <th>rm</th>\n",
       "      <th>age</th>\n",
       "      <th>dis</th>\n",
       "      <th>rad</th>\n",
       "      <th>tax</th>\n",
       "      <th>ptratio</th>\n",
       "      <th>black</th>\n",
       "      <th>lstat</th>\n",
       "    </tr>\n",
       "  </thead>\n",
       "  <tbody>\n",
       "    <tr>\n",
       "      <td>0</td>\n",
       "      <td>-1.009726</td>\n",
       "      <td>-0.497956</td>\n",
       "      <td>0.775983</td>\n",
       "      <td>0.540180</td>\n",
       "      <td>-0.244461</td>\n",
       "      <td>-0.806545</td>\n",
       "      <td>-0.030481</td>\n",
       "      <td>0.336308</td>\n",
       "      <td>-0.057501</td>\n",
       "      <td>-0.638848</td>\n",
       "      <td>-0.807716</td>\n",
       "      <td>-0.135625</td>\n",
       "      <td>0.427902</td>\n",
       "      <td>-0.255504</td>\n",
       "    </tr>\n",
       "    <tr>\n",
       "      <td>1</td>\n",
       "      <td>-0.344032</td>\n",
       "      <td>-0.490681</td>\n",
       "      <td>1.533049</td>\n",
       "      <td>-1.138367</td>\n",
       "      <td>-0.244461</td>\n",
       "      <td>-1.042592</td>\n",
       "      <td>1.315296</td>\n",
       "      <td>-1.515523</td>\n",
       "      <td>1.367730</td>\n",
       "      <td>-0.523482</td>\n",
       "      <td>-0.048792</td>\n",
       "      <td>-1.541193</td>\n",
       "      <td>0.349643</td>\n",
       "      <td>-1.378851</td>\n",
       "    </tr>\n",
       "    <tr>\n",
       "      <td>2</td>\n",
       "      <td>-1.525979</td>\n",
       "      <td>-0.371476</td>\n",
       "      <td>-0.470947</td>\n",
       "      <td>-0.458266</td>\n",
       "      <td>-0.244461</td>\n",
       "      <td>-0.159600</td>\n",
       "      <td>-1.179244</td>\n",
       "      <td>-1.141526</td>\n",
       "      <td>0.032794</td>\n",
       "      <td>-0.638848</td>\n",
       "      <td>-0.588340</td>\n",
       "      <td>1.176239</td>\n",
       "      <td>-0.889573</td>\n",
       "      <td>-0.095441</td>\n",
       "    </tr>\n",
       "    <tr>\n",
       "      <td>3</td>\n",
       "      <td>-0.873870</td>\n",
       "      <td>-0.481414</td>\n",
       "      <td>-0.470947</td>\n",
       "      <td>-0.187672</td>\n",
       "      <td>-0.244461</td>\n",
       "      <td>-0.080917</td>\n",
       "      <td>-0.023238</td>\n",
       "      <td>0.586850</td>\n",
       "      <td>-0.733352</td>\n",
       "      <td>-0.408117</td>\n",
       "      <td>0.152797</td>\n",
       "      <td>-0.323034</td>\n",
       "      <td>0.328277</td>\n",
       "      <td>-0.275875</td>\n",
       "    </tr>\n",
       "    <tr>\n",
       "      <td>4</td>\n",
       "      <td>1.014527</td>\n",
       "      <td>1.422293</td>\n",
       "      <td>-0.470947</td>\n",
       "      <td>0.982970</td>\n",
       "      <td>-0.244461</td>\n",
       "      <td>1.256685</td>\n",
       "      <td>-1.787669</td>\n",
       "      <td>1.051623</td>\n",
       "      <td>-0.975385</td>\n",
       "      <td>1.668465</td>\n",
       "      <td>1.540204</td>\n",
       "      <td>0.801420</td>\n",
       "      <td>0.427902</td>\n",
       "      <td>1.940262</td>\n",
       "    </tr>\n",
       "  </tbody>\n",
       "</table>\n",
       "</div>"
      ],
      "text/plain": [
       "         ID      crim        zn     indus      chas       nox        rm  \\\n",
       "0 -1.009726 -0.497956  0.775983  0.540180 -0.244461 -0.806545 -0.030481   \n",
       "1 -0.344032 -0.490681  1.533049 -1.138367 -0.244461 -1.042592  1.315296   \n",
       "2 -1.525979 -0.371476 -0.470947 -0.458266 -0.244461 -0.159600 -1.179244   \n",
       "3 -0.873870 -0.481414 -0.470947 -0.187672 -0.244461 -0.080917 -0.023238   \n",
       "4  1.014527  1.422293 -0.470947  0.982970 -0.244461  1.256685 -1.787669   \n",
       "\n",
       "        age       dis       rad       tax   ptratio     black     lstat  \n",
       "0  0.336308 -0.057501 -0.638848 -0.807716 -0.135625  0.427902 -0.255504  \n",
       "1 -1.515523  1.367730 -0.523482 -0.048792 -1.541193  0.349643 -1.378851  \n",
       "2 -1.141526  0.032794 -0.638848 -0.588340  1.176239 -0.889573 -0.095441  \n",
       "3  0.586850 -0.733352 -0.408117  0.152797 -0.323034  0.328277 -0.275875  \n",
       "4  1.051623 -0.975385  1.668465  1.540204  0.801420  0.427902  1.940262  "
      ]
     },
     "execution_count": 17,
     "metadata": {},
     "output_type": "execute_result"
    }
   ],
   "source": [
    "#один масштаб\n",
    "X_train.head()"
   ]
  },
  {
   "cell_type": "code",
   "execution_count": 18,
   "metadata": {},
   "outputs": [
    {
     "data": {
      "text/html": [
       "<div>\n",
       "<style scoped>\n",
       "    .dataframe tbody tr th:only-of-type {\n",
       "        vertical-align: middle;\n",
       "    }\n",
       "\n",
       "    .dataframe tbody tr th {\n",
       "        vertical-align: top;\n",
       "    }\n",
       "\n",
       "    .dataframe thead th {\n",
       "        text-align: right;\n",
       "    }\n",
       "</style>\n",
       "<table border=\"1\" class=\"dataframe\">\n",
       "  <thead>\n",
       "    <tr style=\"text-align: right;\">\n",
       "      <th></th>\n",
       "      <th>ID</th>\n",
       "      <th>crim</th>\n",
       "      <th>zn</th>\n",
       "      <th>indus</th>\n",
       "      <th>chas</th>\n",
       "      <th>nox</th>\n",
       "      <th>rm</th>\n",
       "      <th>age</th>\n",
       "      <th>dis</th>\n",
       "      <th>rad</th>\n",
       "      <th>tax</th>\n",
       "      <th>ptratio</th>\n",
       "      <th>black</th>\n",
       "      <th>lstat</th>\n",
       "    </tr>\n",
       "  </thead>\n",
       "  <tbody>\n",
       "    <tr>\n",
       "      <td>0</td>\n",
       "      <td>1.768527</td>\n",
       "      <td>-0.494990</td>\n",
       "      <td>-0.470947</td>\n",
       "      <td>0.090156</td>\n",
       "      <td>-0.244461</td>\n",
       "      <td>0.146388</td>\n",
       "      <td>1.022673</td>\n",
       "      <td>0.833761</td>\n",
       "      <td>-0.777629</td>\n",
       "      <td>-0.984945</td>\n",
       "      <td>-0.789929</td>\n",
       "      <td>1.176239</td>\n",
       "      <td>0.427902</td>\n",
       "      <td>-0.975785</td>\n",
       "    </tr>\n",
       "    <tr>\n",
       "      <td>1</td>\n",
       "      <td>0.797158</td>\n",
       "      <td>0.250998</td>\n",
       "      <td>-0.470947</td>\n",
       "      <td>0.982970</td>\n",
       "      <td>-0.244461</td>\n",
       "      <td>1.868660</td>\n",
       "      <td>0.185365</td>\n",
       "      <td>0.724830</td>\n",
       "      <td>-0.603157</td>\n",
       "      <td>1.668465</td>\n",
       "      <td>1.540204</td>\n",
       "      <td>0.801420</td>\n",
       "      <td>0.155153</td>\n",
       "      <td>-0.662935</td>\n",
       "    </tr>\n",
       "    <tr>\n",
       "      <td>2</td>\n",
       "      <td>0.308076</td>\n",
       "      <td>-0.497464</td>\n",
       "      <td>1.867048</td>\n",
       "      <td>-0.866326</td>\n",
       "      <td>-0.244461</td>\n",
       "      <td>-1.322352</td>\n",
       "      <td>0.065128</td>\n",
       "      <td>-0.814732</td>\n",
       "      <td>1.784335</td>\n",
       "      <td>-0.408117</td>\n",
       "      <td>-0.671347</td>\n",
       "      <td>-0.885261</td>\n",
       "      <td>0.427902</td>\n",
       "      <td>-0.690583</td>\n",
       "    </tr>\n",
       "    <tr>\n",
       "      <td>3</td>\n",
       "      <td>1.490023</td>\n",
       "      <td>0.602754</td>\n",
       "      <td>-0.470947</td>\n",
       "      <td>0.982970</td>\n",
       "      <td>-0.244461</td>\n",
       "      <td>1.370337</td>\n",
       "      <td>0.068026</td>\n",
       "      <td>0.543277</td>\n",
       "      <td>-0.495598</td>\n",
       "      <td>1.668465</td>\n",
       "      <td>1.540204</td>\n",
       "      <td>0.801420</td>\n",
       "      <td>0.427902</td>\n",
       "      <td>0.239235</td>\n",
       "    </tr>\n",
       "    <tr>\n",
       "      <td>4</td>\n",
       "      <td>-0.962177</td>\n",
       "      <td>-0.486074</td>\n",
       "      <td>-0.470947</td>\n",
       "      <td>-0.397491</td>\n",
       "      <td>-0.244461</td>\n",
       "      <td>-0.316965</td>\n",
       "      <td>0.740190</td>\n",
       "      <td>0.118446</td>\n",
       "      <td>-0.435052</td>\n",
       "      <td>-0.523482</td>\n",
       "      <td>-0.131800</td>\n",
       "      <td>1.129386</td>\n",
       "      <td>0.411787</td>\n",
       "      <td>-0.680397</td>\n",
       "    </tr>\n",
       "  </tbody>\n",
       "</table>\n",
       "</div>"
      ],
      "text/plain": [
       "         ID      crim        zn     indus      chas       nox        rm  \\\n",
       "0  1.768527 -0.494990 -0.470947  0.090156 -0.244461  0.146388  1.022673   \n",
       "1  0.797158  0.250998 -0.470947  0.982970 -0.244461  1.868660  0.185365   \n",
       "2  0.308076 -0.497464  1.867048 -0.866326 -0.244461 -1.322352  0.065128   \n",
       "3  1.490023  0.602754 -0.470947  0.982970 -0.244461  1.370337  0.068026   \n",
       "4 -0.962177 -0.486074 -0.470947 -0.397491 -0.244461 -0.316965  0.740190   \n",
       "\n",
       "        age       dis       rad       tax   ptratio     black     lstat  \n",
       "0  0.833761 -0.777629 -0.984945 -0.789929  1.176239  0.427902 -0.975785  \n",
       "1  0.724830 -0.603157  1.668465  1.540204  0.801420  0.155153 -0.662935  \n",
       "2 -0.814732  1.784335 -0.408117 -0.671347 -0.885261  0.427902 -0.690583  \n",
       "3  0.543277 -0.495598  1.668465  1.540204  0.801420  0.427902  0.239235  \n",
       "4  0.118446 -0.435052 -0.523482 -0.131800  1.129386  0.411787 -0.680397  "
      ]
     },
     "execution_count": 18,
     "metadata": {},
     "output_type": "execute_result"
    }
   ],
   "source": [
    "X_test.head()"
   ]
  },
  {
   "cell_type": "markdown",
   "metadata": {},
   "source": [
    "#### 4 - Обучение и оценка качества"
   ]
  },
  {
   "cell_type": "code",
   "execution_count": 19,
   "metadata": {},
   "outputs": [],
   "source": [
    "#создаем временные структуры\n",
    "TestModels_ms = pd.DataFrame(columns = ['Model', 'train', 'test'])\n",
    "TestModels_ma = pd.DataFrame(columns = ['Model', 'train', 'test'])\n",
    "TestModels_r2 = pd.DataFrame(columns = ['Model', 'train', 'test'])"
   ]
  },
  {
   "cell_type": "markdown",
   "metadata": {},
   "source": [
    "##### LinearRegression (метод наименьших квадратов, линейная регрессия)"
   ]
  },
  {
   "cell_type": "code",
   "execution_count": 20,
   "metadata": {},
   "outputs": [],
   "source": [
    "#LinearRegression (метод наименьших квадратов, линейная регрессия)\n",
    "reg = LinearRegression()"
   ]
  },
  {
   "cell_type": "code",
   "execution_count": 21,
   "metadata": {},
   "outputs": [
    {
     "data": {
      "text/plain": [
       "LinearRegression(copy_X=True, fit_intercept=True, n_jobs=None, normalize=False)"
      ]
     },
     "execution_count": 21,
     "metadata": {},
     "output_type": "execute_result"
    }
   ],
   "source": [
    "#обучаем на данных\n",
    "reg.fit(X_train, y_train)"
   ]
  },
  {
   "cell_type": "markdown",
   "metadata": {},
   "source": [
    "##### оценка качества LinearRegression (метод наименьших квадратов)"
   ]
  },
  {
   "cell_type": "code",
   "execution_count": 22,
   "metadata": {},
   "outputs": [
    {
     "data": {
      "text/plain": [
       "23.516244404614692"
      ]
     },
     "execution_count": 22,
     "metadata": {},
     "output_type": "execute_result"
    }
   ],
   "source": [
    "#Среднеквадратическая ошибка регрессии потери\n",
    "mean_squared_error(y_train, reg.predict(X_train))"
   ]
  },
  {
   "cell_type": "code",
   "execution_count": 23,
   "metadata": {},
   "outputs": [
    {
     "data": {
      "text/plain": [
       "18.293523886574643"
      ]
     },
     "execution_count": 23,
     "metadata": {},
     "output_type": "execute_result"
    }
   ],
   "source": [
    "#Среднеквадратическая ошибка регрессии потери\n",
    "mean_squared_error(y_test, reg.predict(X_test))"
   ]
  },
  {
   "cell_type": "code",
   "execution_count": 24,
   "metadata": {},
   "outputs": [
    {
     "data": {
      "text/plain": [
       "3.386196645628923"
      ]
     },
     "execution_count": 24,
     "metadata": {},
     "output_type": "execute_result"
    }
   ],
   "source": [
    "#Средняя абсолютная погрешность регрессии потерь\n",
    "mean_absolute_error(y_train, reg.predict(X_train))"
   ]
  },
  {
   "cell_type": "code",
   "execution_count": 25,
   "metadata": {},
   "outputs": [
    {
     "data": {
      "text/plain": [
       "3.2895864430218924"
      ]
     },
     "execution_count": 25,
     "metadata": {},
     "output_type": "execute_result"
    }
   ],
   "source": [
    "#Средняя абсолютная погрешность регрессии потерь\n",
    "mean_absolute_error(y_test, reg.predict(X_test))"
   ]
  },
  {
   "cell_type": "code",
   "execution_count": 26,
   "metadata": {},
   "outputs": [
    {
     "data": {
      "text/plain": [
       "0.719535830733917"
      ]
     },
     "execution_count": 26,
     "metadata": {},
     "output_type": "execute_result"
    }
   ],
   "source": [
    "#(коэффициент детерминации) функция оценки регрессии\n",
    "r2_score(y_train, reg.predict(X_train))"
   ]
  },
  {
   "cell_type": "code",
   "execution_count": 27,
   "metadata": {},
   "outputs": [
    {
     "data": {
      "text/plain": [
       "0.778841473306935"
      ]
     },
     "execution_count": 27,
     "metadata": {},
     "output_type": "execute_result"
    }
   ],
   "source": [
    "#(коэффициент детерминации) функция оценки регрессии\n",
    "r2_score(y_test, reg.predict(X_test))"
   ]
  },
  {
   "cell_type": "code",
   "execution_count": 28,
   "metadata": {},
   "outputs": [],
   "source": [
    "#сохраняем результаты\n",
    "TestModels_ms.loc[0] = ['LinearRegression',\n",
    "                     mean_squared_error(y_train, reg.predict(X_train)),\n",
    "                     mean_squared_error(y_test, reg.predict(X_test))          \n",
    "]\n",
    "\n",
    "\n",
    "TestModels_ma.loc[0] = ['LinearRegression',\n",
    "                     mean_absolute_error(y_train, reg.predict(X_train)),\n",
    "                     mean_absolute_error(y_test, reg.predict(X_test))\n",
    "                     \n",
    "]\n",
    "\n",
    "TestModels_r2.loc[0] = ['LinearRegression',\n",
    "                     r2_score(y_train, reg.predict(X_train)),\n",
    "                     r2_score(y_test, reg.predict(X_test))                     \n",
    "]"
   ]
  },
  {
   "cell_type": "code",
   "execution_count": 29,
   "metadata": {},
   "outputs": [],
   "source": [
    "#сохраняем предсказания\n",
    "result['PREDICTION_LinearRegression'] = reg.predict(X_test)"
   ]
  },
  {
   "cell_type": "markdown",
   "metadata": {},
   "source": [
    "##### Epsilon-Support Vector Regression (метод опорных векторов с линейным ядром)"
   ]
  },
  {
   "cell_type": "code",
   "execution_count": 30,
   "metadata": {},
   "outputs": [],
   "source": [
    "#Epsilon-Support Vector Regression\n",
    "clf = SVR(C=1.0, epsilon=0.2)"
   ]
  },
  {
   "cell_type": "code",
   "execution_count": 31,
   "metadata": {},
   "outputs": [
    {
     "data": {
      "text/plain": [
       "SVR(C=1.0, cache_size=200, coef0=0.0, degree=3, epsilon=0.2,\n",
       "    gamma='auto_deprecated', kernel='rbf', max_iter=-1, shrinking=True,\n",
       "    tol=0.001, verbose=False)"
      ]
     },
     "execution_count": 31,
     "metadata": {},
     "output_type": "execute_result"
    }
   ],
   "source": [
    "##обучаем на данных\n",
    "clf.fit(X_train, y_train)"
   ]
  },
  {
   "cell_type": "markdown",
   "metadata": {},
   "source": [
    "##### оценка качества Epsilon-Support Vector Regression"
   ]
  },
  {
   "cell_type": "code",
   "execution_count": 32,
   "metadata": {},
   "outputs": [
    {
     "data": {
      "text/plain": [
       "35.072633022162776"
      ]
     },
     "execution_count": 32,
     "metadata": {},
     "output_type": "execute_result"
    }
   ],
   "source": [
    "#Среднеквадратическая ошибка регрессии потери\n",
    "mean_squared_error(y_train, clf.predict(X_train))"
   ]
  },
  {
   "cell_type": "code",
   "execution_count": 33,
   "metadata": {},
   "outputs": [
    {
     "data": {
      "text/plain": [
       "31.160614571803457"
      ]
     },
     "execution_count": 33,
     "metadata": {},
     "output_type": "execute_result"
    }
   ],
   "source": [
    "#Среднеквадратическая ошибка регрессии потери\n",
    "mean_squared_error(y_test, clf.predict(X_test))"
   ]
  },
  {
   "cell_type": "code",
   "execution_count": 34,
   "metadata": {},
   "outputs": [
    {
     "data": {
      "text/plain": [
       "3.2511694041688703"
      ]
     },
     "execution_count": 34,
     "metadata": {},
     "output_type": "execute_result"
    }
   ],
   "source": [
    "#Средняя абсолютная погрешность регрессии потерь\n",
    "mean_absolute_error(y_train, clf.predict(X_train))"
   ]
  },
  {
   "cell_type": "code",
   "execution_count": 35,
   "metadata": {},
   "outputs": [
    {
     "data": {
      "text/plain": [
       "3.666187640090654"
      ]
     },
     "execution_count": 35,
     "metadata": {},
     "output_type": "execute_result"
    }
   ],
   "source": [
    "#Средняя абсолютная погрешность регрессии потерь\n",
    "mean_absolute_error(y_test, clf.predict(X_test))"
   ]
  },
  {
   "cell_type": "code",
   "execution_count": 36,
   "metadata": {},
   "outputs": [
    {
     "data": {
      "text/plain": [
       "0.5817097018006503"
      ]
     },
     "execution_count": 36,
     "metadata": {},
     "output_type": "execute_result"
    }
   ],
   "source": [
    "#(коэффициент детерминации) функция оценки регрессии\n",
    "r2_score(y_train, clf.predict(X_train))"
   ]
  },
  {
   "cell_type": "code",
   "execution_count": 37,
   "metadata": {},
   "outputs": [
    {
     "data": {
      "text/plain": [
       "0.6232855051722412"
      ]
     },
     "execution_count": 37,
     "metadata": {},
     "output_type": "execute_result"
    }
   ],
   "source": [
    "#(коэффициент детерминации) функция оценки регрессии\n",
    "r2_score(y_test, clf.predict(X_test))"
   ]
  },
  {
   "cell_type": "code",
   "execution_count": 38,
   "metadata": {},
   "outputs": [],
   "source": [
    "#сохраняем результаты\n",
    "TestModels_ms.loc[1] = ['SupportVectorRegression',\n",
    "                     mean_squared_error(y_train, clf.predict(X_train)),\n",
    "                     mean_squared_error(y_test, clf.predict(X_test))                     \n",
    "]\n",
    "\n",
    "TestModels_ma.loc[1] = ['SupportVectorRegression',\n",
    "                     mean_absolute_error(y_train, clf.predict(X_train)),\n",
    "                     mean_absolute_error(y_test, clf.predict(X_test))                     \n",
    "]\n",
    "\n",
    "TestModels_r2.loc[1] = ['SupportVectorRegression',\n",
    "                     r2_score(y_train, clf.predict(X_train)),\n",
    "                     r2_score(y_test, clf.predict(X_test))                     \n",
    "]"
   ]
  },
  {
   "cell_type": "code",
   "execution_count": 39,
   "metadata": {},
   "outputs": [],
   "source": [
    "#сохраняем предсказания\n",
    "result['PREDICTION_SupportVectorRegression'] = clf.predict(X_test)"
   ]
  },
  {
   "cell_type": "markdown",
   "metadata": {},
   "source": [
    "##### DecisionTreeRegressor (метод дерева решений)"
   ]
  },
  {
   "cell_type": "code",
   "execution_count": 40,
   "metadata": {},
   "outputs": [],
   "source": [
    "# DecisionTreeRegressor (метод дерева решений)\n",
    "regressor = DecisionTreeRegressor()"
   ]
  },
  {
   "cell_type": "code",
   "execution_count": 41,
   "metadata": {},
   "outputs": [
    {
     "data": {
      "text/plain": [
       "DecisionTreeRegressor(criterion='mse', max_depth=None, max_features=None,\n",
       "                      max_leaf_nodes=None, min_impurity_decrease=0.0,\n",
       "                      min_impurity_split=None, min_samples_leaf=1,\n",
       "                      min_samples_split=2, min_weight_fraction_leaf=0.0,\n",
       "                      presort=False, random_state=None, splitter='best')"
      ]
     },
     "execution_count": 41,
     "metadata": {},
     "output_type": "execute_result"
    }
   ],
   "source": [
    "#обучаем на данных\n",
    "regressor.fit(X_train, y_train)"
   ]
  },
  {
   "cell_type": "markdown",
   "metadata": {},
   "source": [
    "##### оценка качества DecisionTreeRegressor (метод дерева решений)"
   ]
  },
  {
   "cell_type": "code",
   "execution_count": 42,
   "metadata": {},
   "outputs": [
    {
     "data": {
      "text/plain": [
       "0.0"
      ]
     },
     "execution_count": 42,
     "metadata": {},
     "output_type": "execute_result"
    }
   ],
   "source": [
    "#Среднеквадратическая ошибка регрессии потери\n",
    "mean_squared_error(y_train, regressor.predict(X_train))"
   ]
  },
  {
   "cell_type": "code",
   "execution_count": 43,
   "metadata": {},
   "outputs": [
    {
     "data": {
      "text/plain": [
       "14.048059701492537"
      ]
     },
     "execution_count": 43,
     "metadata": {},
     "output_type": "execute_result"
    }
   ],
   "source": [
    "#Среднеквадратическая ошибка регрессии потери\n",
    "mean_squared_error(y_test, regressor.predict(X_test))"
   ]
  },
  {
   "cell_type": "code",
   "execution_count": 44,
   "metadata": {},
   "outputs": [
    {
     "data": {
      "text/plain": [
       "0.0"
      ]
     },
     "execution_count": 44,
     "metadata": {},
     "output_type": "execute_result"
    }
   ],
   "source": [
    "#Средняя абсолютная погрешность регрессии потерь\n",
    "mean_absolute_error(y_train, regressor.predict(X_train))"
   ]
  },
  {
   "cell_type": "code",
   "execution_count": 45,
   "metadata": {},
   "outputs": [
    {
     "data": {
      "text/plain": [
       "2.991044776119403"
      ]
     },
     "execution_count": 45,
     "metadata": {},
     "output_type": "execute_result"
    }
   ],
   "source": [
    "#Средняя абсолютная погрешность регрессии потерь\n",
    "mean_absolute_error(y_test, regressor.predict(X_test))"
   ]
  },
  {
   "cell_type": "code",
   "execution_count": 46,
   "metadata": {},
   "outputs": [
    {
     "data": {
      "text/plain": [
       "1.0"
      ]
     },
     "execution_count": 46,
     "metadata": {},
     "output_type": "execute_result"
    }
   ],
   "source": [
    "#(коэффициент детерминации) функция оценки регрессии\n",
    "r2_score(y_train, regressor.predict(X_train))"
   ]
  },
  {
   "cell_type": "code",
   "execution_count": 47,
   "metadata": {},
   "outputs": [
    {
     "data": {
      "text/plain": [
       "0.8301667734580991"
      ]
     },
     "execution_count": 47,
     "metadata": {},
     "output_type": "execute_result"
    }
   ],
   "source": [
    "#(коэффициент детерминации) функция оценки регрессии\n",
    "r2_score(y_test, regressor.predict(X_test))"
   ]
  },
  {
   "cell_type": "code",
   "execution_count": 48,
   "metadata": {},
   "outputs": [],
   "source": [
    "#сохраняем результаты\n",
    "TestModels_ms.loc[2] = ['DecisionTreeRegressor',\n",
    "                     mean_squared_error(y_train, regressor.predict(X_train)),\n",
    "                     mean_squared_error(y_test, regressor.predict(X_test))                     \n",
    "]\n",
    "\n",
    "TestModels_ma.loc[2] = ['DecisionTreeRegressor',\n",
    "                     mean_absolute_error(y_train, regressor.predict(X_train)),\n",
    "                     mean_absolute_error(y_test, regressor.predict(X_test))                     \n",
    "]\n",
    "\n",
    "TestModels_r2.loc[2] = ['DecisionTreeRegressor',\n",
    "                     r2_score(y_train, regressor.predict(X_train)),\n",
    "                     r2_score(y_test, regressor.predict(X_test))                     \n",
    "]"
   ]
  },
  {
   "cell_type": "code",
   "execution_count": 49,
   "metadata": {},
   "outputs": [],
   "source": [
    "#сохраняем предсказания\n",
    "result['PREDICTION_DecisionTreeRegressor'] = regressor.predict(X_test)"
   ]
  },
  {
   "cell_type": "markdown",
   "metadata": {},
   "source": [
    "#### 5 - визуализация оценки качества"
   ]
  },
  {
   "cell_type": "code",
   "execution_count": 50,
   "metadata": {},
   "outputs": [
    {
     "data": {
      "text/html": [
       "<div>\n",
       "<style scoped>\n",
       "    .dataframe tbody tr th:only-of-type {\n",
       "        vertical-align: middle;\n",
       "    }\n",
       "\n",
       "    .dataframe tbody tr th {\n",
       "        vertical-align: top;\n",
       "    }\n",
       "\n",
       "    .dataframe thead th {\n",
       "        text-align: right;\n",
       "    }\n",
       "</style>\n",
       "<table border=\"1\" class=\"dataframe\">\n",
       "  <thead>\n",
       "    <tr style=\"text-align: right;\">\n",
       "      <th></th>\n",
       "      <th>Model</th>\n",
       "      <th>train</th>\n",
       "      <th>test</th>\n",
       "    </tr>\n",
       "  </thead>\n",
       "  <tbody>\n",
       "    <tr>\n",
       "      <td>0</td>\n",
       "      <td>LinearRegression</td>\n",
       "      <td>23.516244</td>\n",
       "      <td>18.293524</td>\n",
       "    </tr>\n",
       "    <tr>\n",
       "      <td>1</td>\n",
       "      <td>SupportVectorRegression</td>\n",
       "      <td>35.072633</td>\n",
       "      <td>31.160615</td>\n",
       "    </tr>\n",
       "    <tr>\n",
       "      <td>2</td>\n",
       "      <td>DecisionTreeRegressor</td>\n",
       "      <td>0.000000</td>\n",
       "      <td>14.048060</td>\n",
       "    </tr>\n",
       "  </tbody>\n",
       "</table>\n",
       "</div>"
      ],
      "text/plain": [
       "                     Model      train       test\n",
       "0         LinearRegression  23.516244  18.293524\n",
       "1  SupportVectorRegression  35.072633  31.160615\n",
       "2    DecisionTreeRegressor   0.000000  14.048060"
      ]
     },
     "execution_count": 50,
     "metadata": {},
     "output_type": "execute_result"
    }
   ],
   "source": [
    "#оценка Среднеквадратическая ошибка регрессии потери\n",
    "TestModels_ms"
   ]
  },
  {
   "cell_type": "code",
   "execution_count": 51,
   "metadata": {},
   "outputs": [
    {
     "data": {
      "image/png": "[encoded data removed]",
      "text/plain": [
       "<Figure size 432x288 with 1 Axes>"
      ]
     },
     "metadata": {
      "needs_background": "light"
     },
     "output_type": "display_data"
    }
   ],
   "source": [
    "#визуализация оценок\n",
    "TestModels_ms.plot(kind='bar')\n",
    "plt.xticks( TestModels_ms.index, TestModels_ms.Model, rotation=60, horizontalalignment='right', fontsize=12)\n",
    "plt.xlabel('Model')\n",
    "plt.ylabel('коэффициент mean_squared_error')\n",
    "plt.title('Оценка mean_squared_error качества моделей регрессии')\n",
    "plt.show()"
   ]
  },
  {
   "cell_type": "markdown",
   "metadata": {},
   "source": [
    "Метрика измеряет среднюю сумму квадратной разности между фактическим значением и прогнозируемым значением для всех точек данных.\n",
    "\n",
    "Для среднеквадратической ошибки наименьшее значение коэффициента - лучшее. \n",
    "Поэтому можно сделать вывод, что лучше других с задачей справился метод DecisionTreeRegressor (метод дерева решений).\n",
    "\n",
    "Его коэффициенты ниже остальных как на тренировочных, так и тестовых данных:\n",
    "- train=0\n",
    "- test=14.048060"
   ]
  },
  {
   "cell_type": "code",
   "execution_count": 52,
   "metadata": {},
   "outputs": [
    {
     "data": {
      "text/html": [
       "<div>\n",
       "<style scoped>\n",
       "    .dataframe tbody tr th:only-of-type {\n",
       "        vertical-align: middle;\n",
       "    }\n",
       "\n",
       "    .dataframe tbody tr th {\n",
       "        vertical-align: top;\n",
       "    }\n",
       "\n",
       "    .dataframe thead th {\n",
       "        text-align: right;\n",
       "    }\n",
       "</style>\n",
       "<table border=\"1\" class=\"dataframe\">\n",
       "  <thead>\n",
       "    <tr style=\"text-align: right;\">\n",
       "      <th></th>\n",
       "      <th>Model</th>\n",
       "      <th>train</th>\n",
       "      <th>test</th>\n",
       "    </tr>\n",
       "  </thead>\n",
       "  <tbody>\n",
       "    <tr>\n",
       "      <td>0</td>\n",
       "      <td>LinearRegression</td>\n",
       "      <td>3.386197</td>\n",
       "      <td>3.289586</td>\n",
       "    </tr>\n",
       "    <tr>\n",
       "      <td>1</td>\n",
       "      <td>SupportVectorRegression</td>\n",
       "      <td>3.251169</td>\n",
       "      <td>3.666188</td>\n",
       "    </tr>\n",
       "    <tr>\n",
       "      <td>2</td>\n",
       "      <td>DecisionTreeRegressor</td>\n",
       "      <td>0.000000</td>\n",
       "      <td>2.991045</td>\n",
       "    </tr>\n",
       "  </tbody>\n",
       "</table>\n",
       "</div>"
      ],
      "text/plain": [
       "                     Model     train      test\n",
       "0         LinearRegression  3.386197  3.289586\n",
       "1  SupportVectorRegression  3.251169  3.666188\n",
       "2    DecisionTreeRegressor  0.000000  2.991045"
      ]
     },
     "execution_count": 52,
     "metadata": {},
     "output_type": "execute_result"
    }
   ],
   "source": [
    "#Средняя абсолютная погрешность регрессии потерь\n",
    "TestModels_ma"
   ]
  },
  {
   "cell_type": "code",
   "execution_count": 53,
   "metadata": {},
   "outputs": [
    {
     "data": {
      "image/png": "[encoded data removed]",
      "text/plain": [
       "<Figure size 432x288 with 1 Axes>"
      ]
     },
     "metadata": {
      "needs_background": "light"
     },
     "output_type": "display_data"
    }
   ],
   "source": [
    "#визуализация оценок\n",
    "TestModels_ma.plot(kind='bar')\n",
    "plt.xticks( TestModels_ma.index, TestModels_ma.Model, rotation=60, horizontalalignment='right', fontsize=12)\n",
    "plt.xlabel('Model')\n",
    "plt.ylabel('коэффициент mean_absolute_error')\n",
    "plt.title('Оценка mean_absolute_error качества моделей регрессии')\n",
    "plt.show()"
   ]
  },
  {
   "cell_type": "markdown",
   "metadata": {},
   "source": [
    "Метрика измеряет среднюю сумму абсолютной разницы между фактическим значением и прогнозируемым значением.\n",
    "\n",
    "Значение 0 указывает на отсутствие ошибок или точных прогнозов. Поэтому можно сделать вывод, что лучше других с задачей справился метод DecisionTreeRegressor (метод дерева решений).\n",
    "\n",
    "Его коэффициенты ниже остальных как на тренировочных, так и тестовых данных:\n",
    "\n",
    "- train=0\n",
    "- test=2.991045"
   ]
  },
  {
   "cell_type": "code",
   "execution_count": 54,
   "metadata": {},
   "outputs": [
    {
     "data": {
      "text/html": [
       "<div>\n",
       "<style scoped>\n",
       "    .dataframe tbody tr th:only-of-type {\n",
       "        vertical-align: middle;\n",
       "    }\n",
       "\n",
       "    .dataframe tbody tr th {\n",
       "        vertical-align: top;\n",
       "    }\n",
       "\n",
       "    .dataframe thead th {\n",
       "        text-align: right;\n",
       "    }\n",
       "</style>\n",
       "<table border=\"1\" class=\"dataframe\">\n",
       "  <thead>\n",
       "    <tr style=\"text-align: right;\">\n",
       "      <th></th>\n",
       "      <th>Model</th>\n",
       "      <th>train</th>\n",
       "      <th>test</th>\n",
       "    </tr>\n",
       "  </thead>\n",
       "  <tbody>\n",
       "    <tr>\n",
       "      <td>0</td>\n",
       "      <td>LinearRegression</td>\n",
       "      <td>0.719536</td>\n",
       "      <td>0.778841</td>\n",
       "    </tr>\n",
       "    <tr>\n",
       "      <td>1</td>\n",
       "      <td>SupportVectorRegression</td>\n",
       "      <td>0.581710</td>\n",
       "      <td>0.623286</td>\n",
       "    </tr>\n",
       "    <tr>\n",
       "      <td>2</td>\n",
       "      <td>DecisionTreeRegressor</td>\n",
       "      <td>1.000000</td>\n",
       "      <td>0.830167</td>\n",
       "    </tr>\n",
       "  </tbody>\n",
       "</table>\n",
       "</div>"
      ],
      "text/plain": [
       "                     Model     train      test\n",
       "0         LinearRegression  0.719536  0.778841\n",
       "1  SupportVectorRegression  0.581710  0.623286\n",
       "2    DecisionTreeRegressor  1.000000  0.830167"
      ]
     },
     "execution_count": 54,
     "metadata": {},
     "output_type": "execute_result"
    }
   ],
   "source": [
    "#(коэффициент детерминации) функция оценки регрессии\n",
    "TestModels_r2"
   ]
  },
  {
   "cell_type": "code",
   "execution_count": 55,
   "metadata": {},
   "outputs": [
    {
     "data": {
      "image/png": "[encoded data removed]",
      "text/plain": [
       "<Figure size 432x288 with 1 Axes>"
      ]
     },
     "metadata": {
      "needs_background": "light"
     },
     "output_type": "display_data"
    }
   ],
   "source": [
    "#визуализация оценок\n",
    "TestModels_r2.plot(kind='bar')\n",
    "plt.xticks( TestModels_r2.index, TestModels_r2.Model, rotation=60, horizontalalignment='right', fontsize=12)\n",
    "plt.xlabel('Model')\n",
    "plt.ylabel('коэффициент детерминации r2_score')\n",
    "plt.title('Оценка r2_score качества моделей регрессии')\n",
    "plt.show()"
   ]
  },
  {
   "cell_type": "markdown",
   "metadata": {},
   "source": [
    "Из графика выше, можно сделать вывод, что лучше других с задачей справился метод DecisionTreeRegressor (метод дерева решений).\n",
    "\n",
    "Его коэффициенты детерминации (r2_score) выше остальных как на тренировочных, так и тестовых данных:\n",
    "- train=1.000000\n",
    "- test=0.830167\n",
    "\n",
    "(Если же коэффициент детерминации алгоритма близок к 1, скорей всего, это хороший алгоритм, который близок к оптимальному.)"
   ]
  },
  {
   "cell_type": "markdown",
   "metadata": {},
   "source": [
    "#### 6 - визуализация предсказанных значений"
   ]
  },
  {
   "cell_type": "code",
   "execution_count": 56,
   "metadata": {},
   "outputs": [
    {
     "data": {
      "text/html": [
       "<div>\n",
       "<style scoped>\n",
       "    .dataframe tbody tr th:only-of-type {\n",
       "        vertical-align: middle;\n",
       "    }\n",
       "\n",
       "    .dataframe tbody tr th {\n",
       "        vertical-align: top;\n",
       "    }\n",
       "\n",
       "    .dataframe thead th {\n",
       "        text-align: right;\n",
       "    }\n",
       "</style>\n",
       "<table border=\"1\" class=\"dataframe\">\n",
       "  <thead>\n",
       "    <tr style=\"text-align: right;\">\n",
       "      <th></th>\n",
       "      <th>ID</th>\n",
       "      <th>crim</th>\n",
       "      <th>zn</th>\n",
       "      <th>indus</th>\n",
       "      <th>chas</th>\n",
       "      <th>nox</th>\n",
       "      <th>rm</th>\n",
       "      <th>age</th>\n",
       "      <th>dis</th>\n",
       "      <th>rad</th>\n",
       "      <th>tax</th>\n",
       "      <th>ptratio</th>\n",
       "      <th>black</th>\n",
       "      <th>lstat</th>\n",
       "      <th>TARGET</th>\n",
       "      <th>PREDICTION_LinearRegression</th>\n",
       "      <th>PREDICTION_SupportVectorRegression</th>\n",
       "      <th>PREDICTION_DecisionTreeRegressor</th>\n",
       "    </tr>\n",
       "  </thead>\n",
       "  <tbody>\n",
       "    <tr>\n",
       "      <td>331</td>\n",
       "      <td>504</td>\n",
       "      <td>0.06076</td>\n",
       "      <td>0.0</td>\n",
       "      <td>11.93</td>\n",
       "      <td>0</td>\n",
       "      <td>0.573</td>\n",
       "      <td>6.976</td>\n",
       "      <td>91.0</td>\n",
       "      <td>2.1675</td>\n",
       "      <td>1</td>\n",
       "      <td>273</td>\n",
       "      <td>21.0</td>\n",
       "      <td>396.90</td>\n",
       "      <td>5.64</td>\n",
       "      <td>23.9</td>\n",
       "      <td>27.560678</td>\n",
       "      <td>23.661798</td>\n",
       "      <td>31.6</td>\n",
       "    </tr>\n",
       "    <tr>\n",
       "      <td>238</td>\n",
       "      <td>361</td>\n",
       "      <td>4.54192</td>\n",
       "      <td>0.0</td>\n",
       "      <td>18.10</td>\n",
       "      <td>0</td>\n",
       "      <td>0.770</td>\n",
       "      <td>6.398</td>\n",
       "      <td>88.0</td>\n",
       "      <td>2.5182</td>\n",
       "      <td>24</td>\n",
       "      <td>666</td>\n",
       "      <td>20.2</td>\n",
       "      <td>374.56</td>\n",
       "      <td>7.79</td>\n",
       "      <td>25.0</td>\n",
       "      <td>25.543093</td>\n",
       "      <td>20.867142</td>\n",
       "      <td>20.7</td>\n",
       "    </tr>\n",
       "    <tr>\n",
       "      <td>193</td>\n",
       "      <td>289</td>\n",
       "      <td>0.04590</td>\n",
       "      <td>52.5</td>\n",
       "      <td>5.32</td>\n",
       "      <td>0</td>\n",
       "      <td>0.405</td>\n",
       "      <td>6.315</td>\n",
       "      <td>45.6</td>\n",
       "      <td>7.3172</td>\n",
       "      <td>6</td>\n",
       "      <td>293</td>\n",
       "      <td>16.6</td>\n",
       "      <td>396.90</td>\n",
       "      <td>7.60</td>\n",
       "      <td>22.3</td>\n",
       "      <td>26.805463</td>\n",
       "      <td>25.778584</td>\n",
       "      <td>23.8</td>\n",
       "    </tr>\n",
       "    <tr>\n",
       "      <td>301</td>\n",
       "      <td>463</td>\n",
       "      <td>6.65492</td>\n",
       "      <td>0.0</td>\n",
       "      <td>18.10</td>\n",
       "      <td>0</td>\n",
       "      <td>0.713</td>\n",
       "      <td>6.317</td>\n",
       "      <td>83.0</td>\n",
       "      <td>2.7344</td>\n",
       "      <td>24</td>\n",
       "      <td>666</td>\n",
       "      <td>20.2</td>\n",
       "      <td>396.90</td>\n",
       "      <td>13.99</td>\n",
       "      <td>19.5</td>\n",
       "      <td>21.193168</td>\n",
       "      <td>18.673692</td>\n",
       "      <td>21.7</td>\n",
       "    </tr>\n",
       "    <tr>\n",
       "      <td>68</td>\n",
       "      <td>102</td>\n",
       "      <td>0.11432</td>\n",
       "      <td>0.0</td>\n",
       "      <td>8.56</td>\n",
       "      <td>0</td>\n",
       "      <td>0.520</td>\n",
       "      <td>6.781</td>\n",
       "      <td>71.3</td>\n",
       "      <td>2.8561</td>\n",
       "      <td>5</td>\n",
       "      <td>384</td>\n",
       "      <td>20.9</td>\n",
       "      <td>395.58</td>\n",
       "      <td>7.67</td>\n",
       "      <td>26.5</td>\n",
       "      <td>26.598533</td>\n",
       "      <td>23.726482</td>\n",
       "      <td>30.1</td>\n",
       "    </tr>\n",
       "    <tr>\n",
       "      <td>...</td>\n",
       "      <td>...</td>\n",
       "      <td>...</td>\n",
       "      <td>...</td>\n",
       "      <td>...</td>\n",
       "      <td>...</td>\n",
       "      <td>...</td>\n",
       "      <td>...</td>\n",
       "      <td>...</td>\n",
       "      <td>...</td>\n",
       "      <td>...</td>\n",
       "      <td>...</td>\n",
       "      <td>...</td>\n",
       "      <td>...</td>\n",
       "      <td>...</td>\n",
       "      <td>...</td>\n",
       "      <td>...</td>\n",
       "      <td>...</td>\n",
       "      <td>...</td>\n",
       "    </tr>\n",
       "    <tr>\n",
       "      <td>313</td>\n",
       "      <td>478</td>\n",
       "      <td>15.02340</td>\n",
       "      <td>0.0</td>\n",
       "      <td>18.10</td>\n",
       "      <td>0</td>\n",
       "      <td>0.614</td>\n",
       "      <td>5.304</td>\n",
       "      <td>97.3</td>\n",
       "      <td>2.1007</td>\n",
       "      <td>24</td>\n",
       "      <td>666</td>\n",
       "      <td>20.2</td>\n",
       "      <td>349.48</td>\n",
       "      <td>24.91</td>\n",
       "      <td>12.0</td>\n",
       "      <td>11.427117</td>\n",
       "      <td>13.616196</td>\n",
       "      <td>13.8</td>\n",
       "    </tr>\n",
       "    <tr>\n",
       "      <td>323</td>\n",
       "      <td>491</td>\n",
       "      <td>0.20746</td>\n",
       "      <td>0.0</td>\n",
       "      <td>27.74</td>\n",
       "      <td>0</td>\n",
       "      <td>0.609</td>\n",
       "      <td>5.093</td>\n",
       "      <td>98.0</td>\n",
       "      <td>1.8226</td>\n",
       "      <td>4</td>\n",
       "      <td>711</td>\n",
       "      <td>20.1</td>\n",
       "      <td>318.43</td>\n",
       "      <td>29.68</td>\n",
       "      <td>8.1</td>\n",
       "      <td>0.064331</td>\n",
       "      <td>17.002135</td>\n",
       "      <td>15.6</td>\n",
       "    </tr>\n",
       "    <tr>\n",
       "      <td>227</td>\n",
       "      <td>343</td>\n",
       "      <td>0.02498</td>\n",
       "      <td>0.0</td>\n",
       "      <td>1.89</td>\n",
       "      <td>0</td>\n",
       "      <td>0.518</td>\n",
       "      <td>6.540</td>\n",
       "      <td>59.7</td>\n",
       "      <td>6.2669</td>\n",
       "      <td>1</td>\n",
       "      <td>422</td>\n",
       "      <td>15.9</td>\n",
       "      <td>389.96</td>\n",
       "      <td>8.65</td>\n",
       "      <td>16.5</td>\n",
       "      <td>21.069960</td>\n",
       "      <td>25.659793</td>\n",
       "      <td>24.1</td>\n",
       "    </tr>\n",
       "    <tr>\n",
       "      <td>102</td>\n",
       "      <td>151</td>\n",
       "      <td>1.65660</td>\n",
       "      <td>0.0</td>\n",
       "      <td>19.58</td>\n",
       "      <td>0</td>\n",
       "      <td>0.871</td>\n",
       "      <td>6.122</td>\n",
       "      <td>97.3</td>\n",
       "      <td>1.6180</td>\n",
       "      <td>5</td>\n",
       "      <td>403</td>\n",
       "      <td>14.7</td>\n",
       "      <td>372.80</td>\n",
       "      <td>14.10</td>\n",
       "      <td>21.5</td>\n",
       "      <td>21.628538</td>\n",
       "      <td>20.658852</td>\n",
       "      <td>22.7</td>\n",
       "    </tr>\n",
       "    <tr>\n",
       "      <td>267</td>\n",
       "      <td>414</td>\n",
       "      <td>28.65580</td>\n",
       "      <td>0.0</td>\n",
       "      <td>18.10</td>\n",
       "      <td>0</td>\n",
       "      <td>0.597</td>\n",
       "      <td>5.155</td>\n",
       "      <td>100.0</td>\n",
       "      <td>1.5894</td>\n",
       "      <td>24</td>\n",
       "      <td>666</td>\n",
       "      <td>20.2</td>\n",
       "      <td>210.97</td>\n",
       "      <td>20.08</td>\n",
       "      <td>16.3</td>\n",
       "      <td>13.651650</td>\n",
       "      <td>14.930506</td>\n",
       "      <td>13.8</td>\n",
       "    </tr>\n",
       "  </tbody>\n",
       "</table>\n",
       "<p>67 rows × 18 columns</p>\n",
       "</div>"
      ],
      "text/plain": [
       "      ID      crim    zn  indus  chas    nox     rm    age     dis  rad  tax  \\\n",
       "331  504   0.06076   0.0  11.93     0  0.573  6.976   91.0  2.1675    1  273   \n",
       "238  361   4.54192   0.0  18.10     0  0.770  6.398   88.0  2.5182   24  666   \n",
       "193  289   0.04590  52.5   5.32     0  0.405  6.315   45.6  7.3172    6  293   \n",
       "301  463   6.65492   0.0  18.10     0  0.713  6.317   83.0  2.7344   24  666   \n",
       "68   102   0.11432   0.0   8.56     0  0.520  6.781   71.3  2.8561    5  384   \n",
       "..   ...       ...   ...    ...   ...    ...    ...    ...     ...  ...  ...   \n",
       "313  478  15.02340   0.0  18.10     0  0.614  5.304   97.3  2.1007   24  666   \n",
       "323  491   0.20746   0.0  27.74     0  0.609  5.093   98.0  1.8226    4  711   \n",
       "227  343   0.02498   0.0   1.89     0  0.518  6.540   59.7  6.2669    1  422   \n",
       "102  151   1.65660   0.0  19.58     0  0.871  6.122   97.3  1.6180    5  403   \n",
       "267  414  28.65580   0.0  18.10     0  0.597  5.155  100.0  1.5894   24  666   \n",
       "\n",
       "     ptratio   black  lstat  TARGET  PREDICTION_LinearRegression  \\\n",
       "331     21.0  396.90   5.64    23.9                    27.560678   \n",
       "238     20.2  374.56   7.79    25.0                    25.543093   \n",
       "193     16.6  396.90   7.60    22.3                    26.805463   \n",
       "301     20.2  396.90  13.99    19.5                    21.193168   \n",
       "68      20.9  395.58   7.67    26.5                    26.598533   \n",
       "..       ...     ...    ...     ...                          ...   \n",
       "313     20.2  349.48  24.91    12.0                    11.427117   \n",
       "323     20.1  318.43  29.68     8.1                     0.064331   \n",
       "227     15.9  389.96   8.65    16.5                    21.069960   \n",
       "102     14.7  372.80  14.10    21.5                    21.628538   \n",
       "267     20.2  210.97  20.08    16.3                    13.651650   \n",
       "\n",
       "     PREDICTION_SupportVectorRegression  PREDICTION_DecisionTreeRegressor  \n",
       "331                           23.661798                              31.6  \n",
       "238                           20.867142                              20.7  \n",
       "193                           25.778584                              23.8  \n",
       "301                           18.673692                              21.7  \n",
       "68                            23.726482                              30.1  \n",
       "..                                  ...                               ...  \n",
       "313                           13.616196                              13.8  \n",
       "323                           17.002135                              15.6  \n",
       "227                           25.659793                              24.1  \n",
       "102                           20.658852                              22.7  \n",
       "267                           14.930506                              13.8  \n",
       "\n",
       "[67 rows x 18 columns]"
      ]
     },
     "execution_count": 56,
     "metadata": {},
     "output_type": "execute_result"
    }
   ],
   "source": [
    "#тестовые данные, таргет-значение и предсказанное значение всеми алгоритмами\n",
    "result"
   ]
  },
  {
   "cell_type": "code",
   "execution_count": 57,
   "metadata": {},
   "outputs": [
    {
     "data": {
      "text/html": [
       "<div>\n",
       "<style scoped>\n",
       "    .dataframe tbody tr th:only-of-type {\n",
       "        vertical-align: middle;\n",
       "    }\n",
       "\n",
       "    .dataframe tbody tr th {\n",
       "        vertical-align: top;\n",
       "    }\n",
       "\n",
       "    .dataframe thead th {\n",
       "        text-align: right;\n",
       "    }\n",
       "</style>\n",
       "<table border=\"1\" class=\"dataframe\">\n",
       "  <thead>\n",
       "    <tr style=\"text-align: right;\">\n",
       "      <th></th>\n",
       "      <th>ID</th>\n",
       "      <th>TARGET</th>\n",
       "      <th>PREDICTION_LinearRegression</th>\n",
       "      <th>PREDICTION_SupportVectorRegression</th>\n",
       "      <th>PREDICTION_DecisionTreeRegressor</th>\n",
       "    </tr>\n",
       "  </thead>\n",
       "  <tbody>\n",
       "    <tr>\n",
       "      <td>0</td>\n",
       "      <td>1</td>\n",
       "      <td>24.0</td>\n",
       "      <td>30.784855</td>\n",
       "      <td>27.460030</td>\n",
       "      <td>32.5</td>\n",
       "    </tr>\n",
       "    <tr>\n",
       "      <td>19</td>\n",
       "      <td>32</td>\n",
       "      <td>14.5</td>\n",
       "      <td>18.938006</td>\n",
       "      <td>17.397438</td>\n",
       "      <td>20.4</td>\n",
       "    </tr>\n",
       "    <tr>\n",
       "      <td>22</td>\n",
       "      <td>40</td>\n",
       "      <td>30.8</td>\n",
       "      <td>32.081494</td>\n",
       "      <td>27.464707</td>\n",
       "      <td>28.0</td>\n",
       "    </tr>\n",
       "    <tr>\n",
       "      <td>24</td>\n",
       "      <td>43</td>\n",
       "      <td>25.3</td>\n",
       "      <td>26.230972</td>\n",
       "      <td>24.477097</td>\n",
       "      <td>24.7</td>\n",
       "    </tr>\n",
       "    <tr>\n",
       "      <td>27</td>\n",
       "      <td>46</td>\n",
       "      <td>19.3</td>\n",
       "      <td>22.482166</td>\n",
       "      <td>21.027280</td>\n",
       "      <td>17.4</td>\n",
       "    </tr>\n",
       "    <tr>\n",
       "      <td>...</td>\n",
       "      <td>...</td>\n",
       "      <td>...</td>\n",
       "      <td>...</td>\n",
       "      <td>...</td>\n",
       "      <td>...</td>\n",
       "    </tr>\n",
       "    <tr>\n",
       "      <td>322</td>\n",
       "      <td>489</td>\n",
       "      <td>15.2</td>\n",
       "      <td>10.323453</td>\n",
       "      <td>18.558790</td>\n",
       "      <td>16.2</td>\n",
       "    </tr>\n",
       "    <tr>\n",
       "      <td>323</td>\n",
       "      <td>491</td>\n",
       "      <td>8.1</td>\n",
       "      <td>0.064331</td>\n",
       "      <td>17.002135</td>\n",
       "      <td>15.6</td>\n",
       "    </tr>\n",
       "    <tr>\n",
       "      <td>327</td>\n",
       "      <td>498</td>\n",
       "      <td>18.3</td>\n",
       "      <td>17.861579</td>\n",
       "      <td>19.476841</td>\n",
       "      <td>21.8</td>\n",
       "    </tr>\n",
       "    <tr>\n",
       "      <td>331</td>\n",
       "      <td>504</td>\n",
       "      <td>23.9</td>\n",
       "      <td>27.560678</td>\n",
       "      <td>23.661798</td>\n",
       "      <td>31.6</td>\n",
       "    </tr>\n",
       "    <tr>\n",
       "      <td>332</td>\n",
       "      <td>506</td>\n",
       "      <td>11.9</td>\n",
       "      <td>22.095886</td>\n",
       "      <td>20.673600</td>\n",
       "      <td>20.6</td>\n",
       "    </tr>\n",
       "  </tbody>\n",
       "</table>\n",
       "<p>67 rows × 5 columns</p>\n",
       "</div>"
      ],
      "text/plain": [
       "      ID  TARGET  PREDICTION_LinearRegression  \\\n",
       "0      1    24.0                    30.784855   \n",
       "19    32    14.5                    18.938006   \n",
       "22    40    30.8                    32.081494   \n",
       "24    43    25.3                    26.230972   \n",
       "27    46    19.3                    22.482166   \n",
       "..   ...     ...                          ...   \n",
       "322  489    15.2                    10.323453   \n",
       "323  491     8.1                     0.064331   \n",
       "327  498    18.3                    17.861579   \n",
       "331  504    23.9                    27.560678   \n",
       "332  506    11.9                    22.095886   \n",
       "\n",
       "     PREDICTION_SupportVectorRegression  PREDICTION_DecisionTreeRegressor  \n",
       "0                             27.460030                              32.5  \n",
       "19                            17.397438                              20.4  \n",
       "22                            27.464707                              28.0  \n",
       "24                            24.477097                              24.7  \n",
       "27                            21.027280                              17.4  \n",
       "..                                  ...                               ...  \n",
       "322                           18.558790                              16.2  \n",
       "323                           17.002135                              15.6  \n",
       "327                           19.476841                              21.8  \n",
       "331                           23.661798                              31.6  \n",
       "332                           20.673600                              20.6  \n",
       "\n",
       "[67 rows x 5 columns]"
      ]
     },
     "execution_count": 57,
     "metadata": {},
     "output_type": "execute_result"
    }
   ],
   "source": [
    "rez = result[['ID','TARGET', 'PREDICTION_LinearRegression', 'PREDICTION_SupportVectorRegression', 'PREDICTION_DecisionTreeRegressor']].sort_values(by='ID', ascending=True)\n",
    "rez"
   ]
  },
  {
   "cell_type": "code",
   "execution_count": 72,
   "metadata": {},
   "outputs": [
    {
     "data": {
      "image/png": "[encoded data removed]",
      "text/plain": [
       "<Figure size 1440x720 with 3 Axes>"
      ]
     },
     "metadata": {
      "needs_background": "light"
     },
     "output_type": "display_data"
    }
   ],
   "source": [
    "plt.figure(figsize=(20, 10))\n",
    "\n",
    "plt.subplot(2, 2, 1)\n",
    "plt.plot(list(rez['ID']), list(rez['TARGET']), label='TARGET')\n",
    "plt.plot(list(rez['ID']), list(rez['PREDICTION_LinearRegression']), label='PREDICTION_LinearRegression')\n",
    "plt.title('LinearRegression', fontsize=15)\n",
    "plt.xlabel('ID', fontsize=12)\n",
    "plt.ylabel('MEDV', fontsize=12)\n",
    "plt.legend()\n",
    "\n",
    "plt.subplot(2, 2, 2)\n",
    "plt.plot(list(rez['ID']), list(rez['TARGET']), label='TARGET')\n",
    "plt.plot(list(rez['ID']), list(rez['PREDICTION_SupportVectorRegression']), label='PREDICTION_SupportVectorRegression')\n",
    "plt.title('SupportVectorRegression', fontsize=15)\n",
    "plt.xlabel('ID', fontsize=12)\n",
    "plt.ylabel('MEDV', fontsize=12)\n",
    "plt.legend()\n",
    "\n",
    "plt.subplot(2, 2, 3)\n",
    "plt.plot(list(rez['ID']), list(rez['TARGET']), label='TARGET')\n",
    "plt.plot(list(rez['ID']), list(rez['PREDICTION_DecisionTreeRegressor']), label='PREDICTION_DecisionTreeRegressor')\n",
    "plt.title('DecisionTreeRegressor', fontsize=15)\n",
    "plt.xlabel('ID', fontsize=12)\n",
    "plt.ylabel('MEDV', fontsize=12)\n",
    "plt.legend()\n",
    "\n",
    "plt.show()"
   ]
  },
  {
   "cell_type": "markdown",
   "metadata": {},
   "source": [
    "Также визуально линия с предсказанными значениями наимболее близка к линии с таргет-значениями у модели DecisionTreeRegressor (метод дерева решений)."
   ]
  }
 ],
 "metadata": {
  "kernelspec": {
   "display_name": "Python 3",
   "language": "python",
   "name": "python3"
  },
  "language_info": {
   "codemirror_mode": {
    "name": "ipython",
    "version": 3
   },
   "file_extension": ".py",
   "mimetype": "text/x-python",
   "name": "python",
   "nbconvert_exporter": "python",
   "pygments_lexer": "ipython3",
   "version": "3.7.4"
  }
 },
 "nbformat": 4,
 "nbformat_minor": 2
}
